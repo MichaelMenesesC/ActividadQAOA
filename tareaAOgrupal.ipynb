{
 "cells": [
  {
   "cell_type": "code",
   "execution_count": 8,
   "id": "4ab5e477-891b-4265-b38b-525430955ff8",
   "metadata": {
    "tags": []
   },
   "outputs": [
    {
     "name": "stdout",
     "output_type": "stream",
     "text": [
      "Requirement already satisfied: qiskit-optimization in /opt/conda/lib/python3.10/site-packages (0.6.1)\n",
      "Collecting qiskit>=0.44 (from qiskit-optimization)\n",
      "  Downloading qiskit-1.0.2-cp38-abi3-manylinux_2_17_x86_64.manylinux2014_x86_64.whl.metadata (12 kB)\n",
      "Requirement already satisfied: qiskit-algorithms>=0.2.0 in /opt/conda/lib/python3.10/site-packages (from qiskit-optimization) (0.3.0)\n",
      "Requirement already satisfied: scipy>=1.9.0 in /opt/conda/lib/python3.10/site-packages (from qiskit-optimization) (1.12.0)\n",
      "Requirement already satisfied: numpy>=1.17 in /opt/conda/lib/python3.10/site-packages (from qiskit-optimization) (1.23.5)\n",
      "Requirement already satisfied: docplex!=2.24.231,>=2.21.207 in /opt/conda/lib/python3.10/site-packages (from qiskit-optimization) (2.25.236)\n",
      "Requirement already satisfied: setuptools>=40.1.0 in /opt/conda/lib/python3.10/site-packages (from qiskit-optimization) (65.5.1)\n",
      "Requirement already satisfied: networkx>=2.6.3 in /opt/conda/lib/python3.10/site-packages (from qiskit-optimization) (3.2.1)\n",
      "Requirement already satisfied: six in /opt/conda/lib/python3.10/site-packages (from docplex!=2.24.231,>=2.21.207->qiskit-optimization) (1.16.0)\n",
      "Requirement already satisfied: rustworkx>=0.14.0 in /opt/conda/lib/python3.10/site-packages (from qiskit>=0.44->qiskit-optimization) (0.14.0)\n",
      "Requirement already satisfied: sympy>=1.3 in /opt/conda/lib/python3.10/site-packages (from qiskit>=0.44->qiskit-optimization) (1.11.1)\n",
      "Requirement already satisfied: dill>=0.3 in /opt/conda/lib/python3.10/site-packages (from qiskit>=0.44->qiskit-optimization) (0.3.6)\n",
      "Requirement already satisfied: python-dateutil>=2.8.0 in /opt/conda/lib/python3.10/site-packages (from qiskit>=0.44->qiskit-optimization) (2.8.2)\n",
      "Requirement already satisfied: stevedore>=3.0.0 in /opt/conda/lib/python3.10/site-packages (from qiskit>=0.44->qiskit-optimization) (5.1.0)\n",
      "Requirement already satisfied: typing-extensions in /opt/conda/lib/python3.10/site-packages (from qiskit>=0.44->qiskit-optimization) (4.9.0)\n",
      "Collecting symengine>=0.11 (from qiskit>=0.44->qiskit-optimization)\n",
      "  Using cached symengine-0.11.0-cp310-cp310-manylinux_2_12_x86_64.manylinux2010_x86_64.whl.metadata (1.2 kB)\n",
      "Requirement already satisfied: pbr!=2.1.0,>=2.0.0 in /opt/conda/lib/python3.10/site-packages (from stevedore>=3.0.0->qiskit>=0.44->qiskit-optimization) (6.0.0)\n",
      "Requirement already satisfied: mpmath>=0.19 in /opt/conda/lib/python3.10/site-packages (from sympy>=1.3->qiskit>=0.44->qiskit-optimization) (1.2.1)\n",
      "Downloading qiskit-1.0.2-cp38-abi3-manylinux_2_17_x86_64.manylinux2014_x86_64.whl (5.6 MB)\n",
      "\u001b[2K   \u001b[90m━━━━━━━━━━━━━━━━━━━━━━━━━━━━━━━━━━━━━━━━\u001b[0m \u001b[32m5.6/5.6 MB\u001b[0m \u001b[31m3.9 MB/s\u001b[0m eta \u001b[36m0:00:00\u001b[0m:00:01\u001b[0m00:01\u001b[0m\n",
      "\u001b[?25hUsing cached symengine-0.11.0-cp310-cp310-manylinux_2_12_x86_64.manylinux2010_x86_64.whl (39.4 MB)\n",
      "Installing collected packages: symengine, qiskit\n",
      "  Attempting uninstall: symengine\n",
      "    Found existing installation: symengine 0.9.2\n",
      "    Uninstalling symengine-0.9.2:\n",
      "      Successfully uninstalled symengine-0.9.2\n",
      "  Attempting uninstall: qiskit\n",
      "    Found existing installation: qiskit 0.42.0\n",
      "    Uninstalling qiskit-0.42.0:\n",
      "      Successfully uninstalled qiskit-0.42.0\n",
      "\u001b[31mERROR: pip's dependency resolver does not currently take into account all the packages that are installed. This behaviour is the source of the following dependency conflicts.\n",
      "quantum-serverless 0.9.0 requires cloudpickle==2.2.1, but you have cloudpickle 2.2.0 which is incompatible.\n",
      "quantum-serverless 0.9.0 requires importlib-metadata>=5.2.0, but you have importlib-metadata 5.1.0 which is incompatible.\n",
      "quantum-serverless 0.9.0 requires requests>=2.31.0, but you have requests 2.28.1 which is incompatible.\u001b[0m\u001b[31m\n",
      "\u001b[0mSuccessfully installed qiskit-1.0.2 symengine-0.11.0\n"
     ]
    }
   ],
   "source": [
    "!pip install qiskit\n",
    "!pip install qiskit-optimization"
   ]
  },
  {
   "cell_type": "code",
   "execution_count": 11,
   "id": "99bda8a9-36c0-455b-b433-95e23c2d9b97",
   "metadata": {
    "tags": []
   },
   "outputs": [],
   "source": [
    "from qiskit import Aer\n",
    "from qiskit_optimization import QuadraticProgram\n",
    "from qiskit_optimization.algorithms import MinimumEigenOptimizer\n",
    "from qiskit_algorithms import QAOA\n",
    "from qiskit_algorithms.optimizers import COBYLA\n",
    "from docplex.mp.model import Model\n",
    "from qiskit.utils import algorithm_globals, QuantumInstance"
   ]
  },
  {
   "cell_type": "code",
   "execution_count": 13,
   "id": "8de3b776-c53c-4a3e-9e8a-456022d5bb2c",
   "metadata": {
    "tags": []
   },
   "outputs": [
    {
     "name": "stdout",
     "output_type": "stream",
     "text": [
      "Traceback \u001b[1;36m(most recent call last)\u001b[0m:\n",
      "\u001b[1;36m  Cell \u001b[1;32mIn[13], line 17\u001b[1;36m\n",
      "\u001b[1;33m    mdl.add_constraint(x[f'x_{amigo1}'] + x[f'x_{amigo2}'] >= 1)\u001b[1;36m\n",
      "\u001b[1;31mKeyError\u001b[0m\u001b[1;31m:\u001b[0m 'x_Mario'\n",
      "\n",
      "Use %tb to get the full traceback.\n"
     ]
    },
    {
     "data": {
      "text/html": [
       "\n",
       "<style>\n",
       ".button {\n",
       "  border: none;\n",
       "  color: white;\n",
       "  padding: 4px 8px;\n",
       "  text-align: center;\n",
       "  text-decoration: none;\n",
       "  display: inline-block;\n",
       "  font-size: 12px;\n",
       "  margin: 4px 2px;\n",
       "  transition-duration: 0.2s;\n",
       "  cursor: pointer;\n",
       "}\n",
       ".iqx-button {\n",
       "  background-color: #0f62fe; \n",
       "  color: white; \n",
       "}\n",
       ".iqx-button:hover {\n",
       "  background-color: #0043ce;\n",
       "  color: white;\n",
       "}\n",
       "</style>\n",
       "<a href=\"https://stackoverflow.com/search?q=KeyError: x_Mario\" target='_blank'><button class='button iqx-button'>Search for solution online</button></a>\n"
      ],
      "text/plain": [
       "<IPython.core.display.HTML object>"
      ]
     },
     "metadata": {},
     "output_type": "display_data"
    }
   ],
   "source": [
    "# Configurar una semilla global para la reproducibilidad\n",
    "algorithm_globals.random_seed = 123\n",
    "\n",
    "# Lista de amistades\n",
    "amistades = [[\"Mario\", \"Sarah\"], [\"Mario\", \"Raúl\"], [\"Mario\", \"Ana\"], \n",
    "             [\"Enrique\", \"Sarah\"], [\"Enrique\", \"Raúl\"], [\"Saúl\", \"Ana\"]]\n",
    "\n",
    "# Crear modelo de optimización\n",
    "mdl = Model('vertex_cover')\n",
    "\n",
    "# Crear variables binarias únicas para cada persona\n",
    "personas = set(name for sublist in amistades for name in sublist)\n",
    "x = {name: mdl.binary_var(name=f'x_{name}') for name in personas}\n",
    "\n",
    "# Añadir restricciones basadas en la lista de amistades\n",
    "for amigo1, amigo2 in amistades:\n",
    "    mdl.add_constraint(x[f'x_{amigo1}'] + x[f'x_{amigo2}'] >= 1)\n",
    "\n",
    "# Función objetivo: minimizar el número de personas contratadas\n",
    "mdl.minimize(mdl.sum(x[name] for name in x))\n",
    "\n",
    "# Convertir el problema a un programa cuadrático\n",
    "qp = QuadraticProgram()\n",
    "qp.from_docplex(mdl)\n",
    "\n",
    "# Configurar y ejecutar QAOA\n",
    "quantum_instance = QuantumInstance(Aer.get_backend('aer_simulator'), seed_simulator=123, seed_transpiler=123)\n",
    "qaoa = QAOA(optimizer=COBYLA(), quantum_instance=quantum_instance, reps=3)\n",
    "optimizer = MinimumEigenOptimizer(qaoa)\n",
    "result = optimizer.solve(qp)\n",
    "\n",
    "# Mostrar el resultado\n",
    "print(\"Solución óptima:\", result.x)\n",
    "print(\"Personas contratadas:\", [name[2:] for name, value in x.items() if result.x[list(x.keys()).index(name)] > 0.5])"
   ]
  }
 ],
 "metadata": {
  "kernelspec": {
   "display_name": "Qiskit v1.0.2 (ipykernel)",
   "language": "python",
   "name": "python3"
  },
  "language_info": {
   "codemirror_mode": {
    "name": "ipython",
    "version": 3
   },
   "file_extension": ".py",
   "mimetype": "text/x-python",
   "name": "python",
   "nbconvert_exporter": "python",
   "pygments_lexer": "ipython3",
   "version": "3.10.8"
  },
  "widgets": {
   "application/vnd.jupyter.widget-state+json": {
    "state": {},
    "version_major": 2,
    "version_minor": 0
   }
  }
 },
 "nbformat": 4,
 "nbformat_minor": 5
}
