{
  "cells": [
    {
      "cell_type": "code",
      "execution_count": 210,
      "metadata": {
        "id": "QQv2UUEP55eU"
      },
      "outputs": [],
      "source": [
        "import pennylane as qml\n",
        "from pennylane import qaoa\n",
        "from pennylane import numpy as np\n",
        "import networkx as nx\n",
        "from matplotlib import pyplot as plt"
      ]
    },
    {
      "cell_type": "code",
      "execution_count": 211,
      "metadata": {},
      "outputs": [],
      "source": [
        "def create_graph_from_friendships(friendships):\n",
        "    \"\"\"Create a NetworkX graph from a list of friendships.\"\"\"\n",
        "    g = nx.Graph()\n",
        "    g.add_edges_from(friendships)\n",
        "    return g"
      ]
    },
    {
      "cell_type": "code",
      "execution_count": 212,
      "metadata": {},
      "outputs": [],
      "source": [
        "# Assuming 0=Mario, 1=Sarah, 2=Raúl, 3=Ana, 4=Enrique, 5=Saúl\n",
        "friendships = [(0, 1), (0, 2), (0, 3), (4, 1), (4, 2), (5, 3)]\n",
        "# friendships = [(0, 1), (0, 2), (2, 3), (1, 2)]\n",
        "g = create_graph_from_friendships(friendships)\n",
        "dev = qml.device('default.qubit', wires=len(g.nodes))"
      ]
    },
    {
      "cell_type": "code",
      "execution_count": 213,
      "metadata": {},
      "outputs": [
        {
          "data": {
            "image/png": "[encoded data removed]",
            "text/plain": [
              "<Figure size 640x480 with 1 Axes>"
            ]
          },
          "metadata": {},
          "output_type": "display_data"
        }
      ],
      "source": [
        "nx.draw(g, with_labels=True)\n",
        "plt.show()"
      ]
    },
    {
      "cell_type": "code",
      "execution_count": 214,
      "metadata": {},
      "outputs": [],
      "source": [
        "cost_h, mixer_h = qaoa.min_vertex_cover(g, constrained=False)"
      ]
    },
    {
      "cell_type": "code",
      "execution_count": 215,
      "metadata": {},
      "outputs": [],
      "source": [
        "def qaoa_layer(gamma, alpha):\n",
        "    qaoa.cost_layer(gamma, cost_h)\n",
        "    qaoa.mixer_layer(alpha, mixer_h)"
      ]
    },
    {
      "cell_type": "code",
      "execution_count": 226,
      "metadata": {},
      "outputs": [],
      "source": [
        "wires = range(6)\n",
        "depth = 3\n",
        "\n",
        "def circuit(params, **kwargs):\n",
        "    for w in wires:\n",
        "        qml.Hadamard(wires=w)\n",
        "    qml.layer(qaoa_layer, depth, params[0], params[1])"
      ]
    },
    {
      "cell_type": "code",
      "execution_count": 227,
      "metadata": {},
      "outputs": [],
      "source": [
        "@qml.qnode(dev)\n",
        "def cost_function(params):\n",
        "    circuit(params)\n",
        "    return qml.expval(cost_h)"
      ]
    },
    {
      "cell_type": "code",
      "execution_count": 228,
      "metadata": {},
      "outputs": [],
      "source": [
        "optimizer = qml.GradientDescentOptimizer()\n",
        "steps = 100\n",
        "params = np.array([[0.5, 0.5, 0.5], [0.5, 0.5, 0.5]], requires_grad=True)"
      ]
    },
    {
      "cell_type": "code",
      "execution_count": 229,
      "metadata": {},
      "outputs": [
        {
          "name": "stdout",
          "output_type": "stream",
          "text": [
            "0: ──H─╭RZZ(0.75)──RZ(1.25)─╭RZZ(0.75)───────────╭RZZ(0.75)──RX(1.00)─────────────────────\n",
            "1: ──H─╰RZZ(0.75)──RZ(0.50)─│────────────────────│────────────────────╭RZZ(0.75)──RX(1.00)\n",
            "2: ──H──────────────────────╰RZZ(0.75)──RZ(0.50)─│────────────────────│───────────────────\n",
            "3: ──H───────────────────────────────────────────╰RZZ(0.75)──RZ(0.50)─│───────────────────\n",
            "4: ──H────────────────────────────────────────────────────────────────╰RZZ(0.75)──RZ(0.50)\n",
            "5: ──H────────────────────────────────────────────────────────────────────────────────────\n",
            "\n",
            "──╭RZZ(0.75)──RZ(1.25)──╭RZZ(0.75)───────────╭RZZ(0.75)──RX(1.00)──────────────────────╭RZZ(0.75)\n",
            "──╰RZZ(0.75)──RZ(0.50)──│────────────────────│────────────────────╭RZZ(0.75)──RX(1.00)─╰RZZ(0.75)\n",
            "──╭RZZ(0.75)──RX(1.00)──╰RZZ(0.75)──RZ(0.50)─│────────────────────│────────────────────╭RZZ(0.75)\n",
            "──│──────────╭RZZ(0.75)──RX(1.00)────────────╰RZZ(0.75)──RZ(0.50)─│────────────────────│─────────\n",
            "──╰RZZ(0.75)─│───────────RX(1.00)─────────────────────────────────╰RZZ(0.75)──RZ(0.50)─╰RZZ(0.75)\n",
            "─────────────╰RZZ(0.75)──RZ(-0.25)──RX(1.00)─────────────────────────────────────────────────────\n",
            "\n",
            "───RZ(1.25)──╭RZZ(0.75)───────────╭RZZ(0.75)──RX(1.00)───────────────────────────────────────────\n",
            "───RZ(0.50)──│────────────────────│────────────────────╭RZZ(0.75)──RX(1.00)──────────────────────\n",
            "───RX(1.00)──╰RZZ(0.75)──RZ(0.50)─│────────────────────│────────────────────╭RZZ(0.75)──RX(1.00)─\n",
            "──╭RZZ(0.75)──RX(1.00)────────────╰RZZ(0.75)──RZ(0.50)─│────────────────────│──────────╭RZZ(0.75)\n",
            "──│───────────RX(1.00)─────────────────────────────────╰RZZ(0.75)──RZ(0.50)─╰RZZ(0.75)─│─────────\n",
            "──╰RZZ(0.75)──RZ(-0.25)──RX(1.00)──────────────────────────────────────────────────────╰RZZ(0.75)\n",
            "\n",
            "───────────────────────┤ ╭<𝓗>\n",
            "───────────────────────┤ ├<𝓗>\n",
            "───────────────────────┤ ├<𝓗>\n",
            "───RX(1.00)────────────┤ ├<𝓗>\n",
            "───RX(1.00)────────────┤ ├<𝓗>\n",
            "───RZ(-0.25)──RX(1.00)─┤ ╰<𝓗>\n"
          ]
        }
      ],
      "source": [
        "print(qml.draw(cost_function, expansion_strategy='device')(params = params))"
      ]
    },
    {
      "cell_type": "code",
      "execution_count": 230,
      "metadata": {
        "colab": {
          "base_uri": "https://localhost:8080/"
        },
        "id": "xqOBnx9CY30W",
        "outputId": "e4b7a3bb-3049-40fc-f103-4be68bb56a27"
      },
      "outputs": [
        {
          "name": "stdout",
          "output_type": "stream",
          "text": [
            "Optimal Parameters\n",
            "[[0.49775236 0.4956784  0.95035039]\n",
            " [0.53100199 0.56984846 1.0152722 ]]\n"
          ]
        }
      ],
      "source": [
        "for i in range(steps):\n",
        "    params = optimizer.step(cost_function, params)\n",
        "\n",
        "print(\"Optimal Parameters\")\n",
        "print(params)"
      ]
    },
    {
      "cell_type": "code",
      "execution_count": 231,
      "metadata": {},
      "outputs": [],
      "source": [
        "@qml.qnode(dev)\n",
        "def probability_circuit(gamma, alpha):\n",
        "    circuit([gamma, alpha])\n",
        "    return qml.probs(wires=wires)\n",
        "\n",
        "\n",
        "probs = probability_circuit(params[0], params[1])"
      ]
    },
    {
      "cell_type": "code",
      "execution_count": 232,
      "metadata": {
        "colab": {
          "base_uri": "https://localhost:8080/",
          "height": 447
        },
        "id": "1bUsK30XC79r",
        "outputId": "a234c0e4-9af3-47ec-c0b9-d0ee32ac7426"
      },
      "outputs": [
        {
          "data": {
            "image/png": "[encoded data removed]",
            "text/plain": [
              "<Figure size 640x480 with 1 Axes>"
            ]
          },
          "metadata": {},
          "output_type": "display_data"
        }
      ],
      "source": [
        "# plt.style.use(\"seaborn\")\n",
        "plt.bar(range(2 ** len(wires)), probs)\n",
        "plt.show()"
      ]
    },
    {
      "cell_type": "code",
      "execution_count": 233,
      "metadata": {
        "id": "re2AyDXyaUP8"
      },
      "outputs": [
        {
          "data": {
            "text/plain": [
              "tensor([0.00191833, 0.01334428, 0.00166631, 0.03790314, 0.00098797,\n",
              "        0.0047228 , 0.06659013, 0.00616252, 0.00020385, 0.00519216,\n",
              "        0.00335994, 0.00365122, 0.00659522, 0.00101728, 0.00105541,\n",
              "        0.00895194, 0.00020385, 0.00519216, 0.00335994, 0.00365122,\n",
              "        0.00659522, 0.00101728, 0.00105541, 0.00895194, 0.00771828,\n",
              "        0.0328422 , 0.00317008, 0.00134327, 0.00881141, 0.02441842,\n",
              "        0.0159203 , 0.00300629, 0.0049375 , 0.01089318, 0.0736922 ,\n",
              "        0.04322304, 0.00268462, 0.00107602, 0.09195792, 0.03176377,\n",
              "        0.01065363, 0.00888601, 0.00797369, 0.00727011, 0.01375799,\n",
              "        0.00010801, 0.03068052, 0.00118399, 0.01065363, 0.00888601,\n",
              "        0.00797369, 0.00727011, 0.01375799, 0.00010801, 0.03068052,\n",
              "        0.00118399, 0.02688915, 0.00412028, 0.06902748, 0.00975282,\n",
              "        0.09620195, 0.01033909, 0.05851582, 0.01331748], requires_grad=True)"
            ]
          },
          "execution_count": 233,
          "metadata": {},
          "output_type": "execute_result"
        }
      ],
      "source": [
        "probs"
      ]
    },
    {
      "cell_type": "code",
      "execution_count": 234,
      "metadata": {},
      "outputs": [
        {
          "data": {
            "text/plain": [
              "(tensor(0.09620195, requires_grad=True), 60)"
            ]
          },
          "execution_count": 234,
          "metadata": {},
          "output_type": "execute_result"
        }
      ],
      "source": [
        "probs.max(), probs.argmax()"
      ]
    },
    {
      "cell_type": "code",
      "execution_count": 235,
      "metadata": {},
      "outputs": [
        {
          "data": {
            "text/plain": [
              "'111100'"
            ]
          },
          "execution_count": 235,
          "metadata": {},
          "output_type": "execute_result"
        }
      ],
      "source": [
        "binario = bin(probs.argmax())[2:]\n",
        "binario"
      ]
    },
    {
      "cell_type": "code",
      "execution_count": null,
      "metadata": {},
      "outputs": [],
      "source": []
    },
    {
      "cell_type": "code",
      "execution_count": null,
      "metadata": {},
      "outputs": [],
      "source": []
    }
  ],
  "metadata": {
    "colab": {
      "provenance": []
    },
    "kernelspec": {
      "display_name": "Python 3",
      "name": "python3"
    },
    "language_info": {
      "codemirror_mode": {
        "name": "ipython",
        "version": 3
      },
      "file_extension": ".py",
      "mimetype": "text/x-python",
      "name": "python",
      "nbconvert_exporter": "python",
      "pygments_lexer": "ipython3",
      "version": "3.10.5"
    }
  },
  "nbformat": 4,
  "nbformat_minor": 0
}
