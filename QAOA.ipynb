{
  "cells": [
    {
      "cell_type": "markdown",
      "metadata": {},
      "source": [
        "me base en esta fuente de la pagina de pennyland\n",
        "- https://pennylane.ai/qml/demos/tutorial_qaoa_intro/\n",
        "\n",
        "Tambien asumi que la funcción que describe el Coste del Hamiltoniano es **min_vertex_cover**. Que segun la pagina de pennyland: https://docs.pennylane.ai/en/stable/code/qml_qaoa.html\n",
        "\n",
        "Returns the QAOA cost Hamiltonian and the recommended mixer corresponding to the Minimum Vertex Cover problem, for a given graph.\n",
        "\n"
      ]
    },
    {
      "cell_type": "code",
      "execution_count": 1,
      "metadata": {
        "id": "QQv2UUEP55eU"
      },
      "outputs": [],
      "source": [
        "import pennylane as qml\n",
        "from pennylane import qaoa\n",
        "from pennylane import numpy as np\n",
        "import networkx as nx\n",
        "from matplotlib import pyplot as plt"
      ]
    },
    {
      "cell_type": "code",
      "execution_count": 2,
      "metadata": {},
      "outputs": [],
      "source": [
        "def mapFriendships(friendships):\n",
        "  '''\n",
        "  Este metodo mapea la relacion de amistad de las personas y devuelve un mapa y la relacion en con el formato [(0,1), (1,2), ...]\n",
        "  '''\n",
        "  name_to_index = {}\n",
        "  current_index = 0\n",
        "\n",
        "  for friendship in friendships:\n",
        "      for name in friendship:\n",
        "          if name not in name_to_index:\n",
        "              name_to_index[name] = current_index\n",
        "              current_index += 1\n",
        "\n",
        "  indexed_friendships = [(name_to_index[friendship[0]], name_to_index[friendship[1]]) for friendship in friendships]\n",
        "\n",
        "  return name_to_index, indexed_friendships"
      ]
    },
    {
      "cell_type": "code",
      "execution_count": 3,
      "metadata": {},
      "outputs": [],
      "source": [
        "def create_graph_from_friendships(friendships):\n",
        "    \"\"\"Create a NetworkX graph from a list of friendships.\"\"\"\n",
        "    g = nx.Graph()\n",
        "    g.add_edges_from(friendships)\n",
        "    return g"
      ]
    },
    {
      "cell_type": "code",
      "execution_count": 4,
      "metadata": {},
      "outputs": [],
      "source": [
        "# Relacion inicial de amistades\n",
        "init_friendships = [\n",
        "  [\"Mario\", \"Sarah\"],\n",
        "  [\"Mario\", \"Raul\"],\n",
        "  [\"Mario\", \"Ana\"],\n",
        "  [\"Enrique\", \"Sarah\"],\n",
        "  [\"Enrique\", \"Raul\"],\n",
        "  [\"Saul\", \"Ana\"],\n",
        "]\n",
        "\n",
        "map_friendships, friendships = mapFriendships(init_friendships)\n",
        "\n",
        "g = create_graph_from_friendships(friendships)\n",
        "dev = qml.device('default.qubit', wires=len(g.nodes))"
      ]
    },
    {
      "cell_type": "code",
      "execution_count": 5,
      "metadata": {},
      "outputs": [
        {
          "data": {
            "image/png": "[encoded data removed]",
            "text/plain": [
              "<Figure size 640x480 with 1 Axes>"
            ]
          },
          "metadata": {},
          "output_type": "display_data"
        }
      ],
      "source": [
        "nx.draw(g, with_labels=True)\n",
        "plt.show()"
      ]
    },
    {
      "cell_type": "code",
      "execution_count": 6,
      "metadata": {},
      "outputs": [],
      "source": [
        "cost_h, mixer_h = qaoa.min_vertex_cover(g, constrained=False)"
      ]
    },
    {
      "cell_type": "code",
      "execution_count": 7,
      "metadata": {},
      "outputs": [],
      "source": [
        "def qaoa_layer(gamma, alpha):\n",
        "    qaoa.cost_layer(gamma, cost_h)\n",
        "    qaoa.mixer_layer(alpha, mixer_h)"
      ]
    },
    {
      "cell_type": "code",
      "execution_count": 8,
      "metadata": {},
      "outputs": [],
      "source": [
        "wires = range(len(map_friendships.items()))\n",
        "# 2 niveles de profundidad como plantea el enunciado del problema\n",
        "depth = 3\n",
        "\n",
        "def circuit(params, **kwargs):\n",
        "    for w in wires:\n",
        "        qml.Hadamard(wires=w)\n",
        "    qml.layer(qaoa_layer, depth, params[0], params[1])"
      ]
    },
    {
      "cell_type": "code",
      "execution_count": 9,
      "metadata": {},
      "outputs": [],
      "source": [
        "@qml.qnode(dev)\n",
        "def cost_function(params):\n",
        "    circuit(params)\n",
        "    return qml.expval(cost_h)"
      ]
    },
    {
      "cell_type": "code",
      "execution_count": 10,
      "metadata": {},
      "outputs": [],
      "source": [
        "optimizer = qml.GradientDescentOptimizer()\n",
        "steps = 70\n",
        "params = np.array([[0.5, 0.5, 0.5], [0.5, 0.5, 0.5]], requires_grad=True)"
      ]
    },
    {
      "cell_type": "code",
      "execution_count": 11,
      "metadata": {},
      "outputs": [
        {
          "name": "stdout",
          "output_type": "stream",
          "text": [
            "0: ──H─╭RZZ(0.75)──RZ(1.25)─╭RZZ(0.75)───────────╭RZZ(0.75)──RX(1.00)─────────────────────\n",
            "1: ──H─╰RZZ(0.75)──RZ(0.50)─│────────────────────│────────────────────╭RZZ(0.75)──RX(1.00)\n",
            "2: ──H──────────────────────╰RZZ(0.75)──RZ(0.50)─│────────────────────│───────────────────\n",
            "3: ──H───────────────────────────────────────────╰RZZ(0.75)──RZ(0.50)─│───────────────────\n",
            "4: ──H────────────────────────────────────────────────────────────────╰RZZ(0.75)──RZ(0.50)\n",
            "5: ──H────────────────────────────────────────────────────────────────────────────────────\n",
            "\n",
            "──╭RZZ(0.75)──RZ(1.25)──╭RZZ(0.75)───────────╭RZZ(0.75)──RX(1.00)──────────────────────╭RZZ(0.75)\n",
            "──╰RZZ(0.75)──RZ(0.50)──│────────────────────│────────────────────╭RZZ(0.75)──RX(1.00)─╰RZZ(0.75)\n",
            "──╭RZZ(0.75)──RX(1.00)──╰RZZ(0.75)──RZ(0.50)─│────────────────────│────────────────────╭RZZ(0.75)\n",
            "──│──────────╭RZZ(0.75)──RX(1.00)────────────╰RZZ(0.75)──RZ(0.50)─│────────────────────│─────────\n",
            "──╰RZZ(0.75)─│───────────RX(1.00)─────────────────────────────────╰RZZ(0.75)──RZ(0.50)─╰RZZ(0.75)\n",
            "─────────────╰RZZ(0.75)──RZ(-0.25)──RX(1.00)─────────────────────────────────────────────────────\n",
            "\n",
            "───RZ(1.25)──╭RZZ(0.75)───────────╭RZZ(0.75)──RX(1.00)───────────────────────────────────────────\n",
            "───RZ(0.50)──│────────────────────│────────────────────╭RZZ(0.75)──RX(1.00)──────────────────────\n",
            "───RX(1.00)──╰RZZ(0.75)──RZ(0.50)─│────────────────────│────────────────────╭RZZ(0.75)──RX(1.00)─\n",
            "──╭RZZ(0.75)──RX(1.00)────────────╰RZZ(0.75)──RZ(0.50)─│────────────────────│──────────╭RZZ(0.75)\n",
            "──│───────────RX(1.00)─────────────────────────────────╰RZZ(0.75)──RZ(0.50)─╰RZZ(0.75)─│─────────\n",
            "──╰RZZ(0.75)──RZ(-0.25)──RX(1.00)──────────────────────────────────────────────────────╰RZZ(0.75)\n",
            "\n",
            "───────────────────────┤ ╭<𝓗>\n",
            "───────────────────────┤ ├<𝓗>\n",
            "───────────────────────┤ ├<𝓗>\n",
            "───RX(1.00)────────────┤ ├<𝓗>\n",
            "───RX(1.00)────────────┤ ├<𝓗>\n",
            "───RZ(-0.25)──RX(1.00)─┤ ╰<𝓗>\n"
          ]
        }
      ],
      "source": [
        "# Representacion del circuito\n",
        "print(qml.draw(cost_function, expansion_strategy='device')(params = params))"
      ]
    },
    {
      "cell_type": "code",
      "execution_count": 12,
      "metadata": {
        "colab": {
          "base_uri": "https://localhost:8080/"
        },
        "id": "xqOBnx9CY30W",
        "outputId": "e4b7a3bb-3049-40fc-f103-4be68bb56a27"
      },
      "outputs": [
        {
          "name": "stdout",
          "output_type": "stream",
          "text": [
            "Optimal Parameters\n",
            "[[0.54746346 0.4923788  0.86671131]\n",
            " [0.58571054 0.49269125 1.01184449]]\n"
          ]
        }
      ],
      "source": [
        "# Defincicion de los parametros optimos\n",
        "for i in range(steps):\n",
        "    params = optimizer.step(cost_function, params)\n",
        "\n",
        "print(\"Optimal Parameters\")\n",
        "print(params)"
      ]
    },
    {
      "cell_type": "code",
      "execution_count": 13,
      "metadata": {},
      "outputs": [],
      "source": [
        "@qml.qnode(dev)\n",
        "def probability_circuit(gamma, alpha):\n",
        "    circuit([gamma, alpha])\n",
        "    return qml.probs(wires=wires)\n",
        "\n",
        "\n",
        "probs = probability_circuit(params[0], params[1])"
      ]
    },
    {
      "cell_type": "code",
      "execution_count": 14,
      "metadata": {
        "colab": {
          "base_uri": "https://localhost:8080/",
          "height": 447
        },
        "id": "1bUsK30XC79r",
        "outputId": "a234c0e4-9af3-47ec-c0b9-d0ee32ac7426"
      },
      "outputs": [
        {
          "data": {
            "image/png": "[encoded data removed]",
            "text/plain": [
              "<Figure size 640x480 with 1 Axes>"
            ]
          },
          "metadata": {},
          "output_type": "display_data"
        }
      ],
      "source": [
        "plt.bar(range(2 ** len(wires)), probs)\n",
        "plt.show()"
      ]
    },
    {
      "cell_type": "code",
      "execution_count": 15,
      "metadata": {},
      "outputs": [
        {
          "data": {
            "text/plain": [
              "(tensor(0.08992792, requires_grad=True), 38, '100110')"
            ]
          },
          "execution_count": 15,
          "metadata": {},
          "output_type": "execute_result"
        }
      ],
      "source": [
        "# probs.argmax(): obtiene el indice con el valor mas alto\n",
        "# binario: La representacion binaria de indice de mayou probabilidad\n",
        "binario = bin(probs.argmax())[2:]\n",
        "probs.max(), probs.argmax(), binario"
      ]
    },
    {
      "cell_type": "code",
      "execution_count": 16,
      "metadata": {},
      "outputs": [
        {
          "data": {
            "text/plain": [
              "['Mario', 'Ana', 'Enrique']"
            ]
          },
          "execution_count": 16,
          "metadata": {},
          "output_type": "execute_result"
        }
      ],
      "source": [
        "names = []\n",
        "for i, bit in enumerate(binario):\n",
        "    if bit == '1':\n",
        "        for name, idx in map_friendships.items():\n",
        "            if idx == i:\n",
        "                names.append(name)\n",
        "names"
      ]
    },
    {
      "cell_type": "code",
      "execution_count": 17,
      "metadata": {},
      "outputs": [
        {
          "data": {
            "image/png": "[encoded data removed]",
            "text/plain": [
              "<Figure size 640x480 with 1 Axes>"
            ]
          },
          "metadata": {},
          "output_type": "display_data"
        }
      ],
      "source": [
        "info_g = create_graph_from_friendships(init_friendships)\n",
        "nx.draw(info_g, with_labels=True)\n",
        "plt.show()"
      ]
    }
  ],
  "metadata": {
    "colab": {
      "provenance": []
    },
    "kernelspec": {
      "display_name": "Python 3",
      "name": "python3"
    },
    "language_info": {
      "codemirror_mode": {
        "name": "ipython",
        "version": 3
      },
      "file_extension": ".py",
      "mimetype": "text/x-python",
      "name": "python",
      "nbconvert_exporter": "python",
      "pygments_lexer": "ipython3",
      "version": "3.10.5"
    }
  },
  "nbformat": 4,
  "nbformat_minor": 0
}
