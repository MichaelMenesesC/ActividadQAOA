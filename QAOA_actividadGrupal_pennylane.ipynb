{
  "nbformat": 4,
  "nbformat_minor": 0,
  "metadata": {
    "colab": {
      "provenance": []
    },
    "kernelspec": {
      "name": "python3",
      "display_name": "Python 3"
    },
    "language_info": {
      "name": "python"
    }
  },
  "cells": [
    {
      "cell_type": "code",
      "source": [
        "!pip install networkx"
      ],
      "metadata": {
        "colab": {
          "base_uri": "https://localhost:8080/"
        },
        "id": "q7bvZ2sfyr29",
        "outputId": "9dfac1f2-1530-4d1c-daae-72806355d61e"
      },
      "execution_count": null,
      "outputs": [
        {
          "output_type": "stream",
          "name": "stdout",
          "text": [
            "Requirement already satisfied: networkx in /usr/local/lib/python3.10/dist-packages (3.3)\n"
          ]
        }
      ]
    },
    {
      "cell_type": "code",
      "source": [
        "!pip install pennylane"
      ],
      "metadata": {
        "colab": {
          "base_uri": "https://localhost:8080/"
        },
        "id": "wFpe3fQSymsd",
        "outputId": "4dc75f33-2274-4aea-89b2-9c66861d64ed"
      },
      "execution_count": null,
      "outputs": [
        {
          "output_type": "stream",
          "name": "stdout",
          "text": [
            "Collecting pennylane\n",
            "  Downloading PennyLane-0.36.0-py3-none-any.whl (1.7 MB)\n",
            "\u001b[2K     \u001b[90m━━━━━━━━━━━━━━━━━━━━━━━━━━━━━━━━━━━━━━━━\u001b[0m \u001b[32m1.7/1.7 MB\u001b[0m \u001b[31m8.3 MB/s\u001b[0m eta \u001b[36m0:00:00\u001b[0m\n",
            "\u001b[?25hRequirement already satisfied: numpy<2.0 in /usr/local/lib/python3.10/dist-packages (from pennylane) (1.25.2)\n",
            "Requirement already satisfied: scipy in /usr/local/lib/python3.10/dist-packages (from pennylane) (1.11.4)\n",
            "Requirement already satisfied: networkx in /usr/local/lib/python3.10/dist-packages (from pennylane) (3.3)\n",
            "Collecting rustworkx (from pennylane)\n",
            "  Downloading rustworkx-0.14.2-cp310-cp310-manylinux_2_17_x86_64.manylinux2014_x86_64.whl (2.1 MB)\n",
            "\u001b[2K     \u001b[90m━━━━━━━━━━━━━━━━━━━━━━━━━━━━━━━━━━━━━━━━\u001b[0m \u001b[32m2.1/2.1 MB\u001b[0m \u001b[31m15.3 MB/s\u001b[0m eta \u001b[36m0:00:00\u001b[0m\n",
            "\u001b[?25hRequirement already satisfied: autograd in /usr/local/lib/python3.10/dist-packages (from pennylane) (1.6.2)\n",
            "Requirement already satisfied: toml in /usr/local/lib/python3.10/dist-packages (from pennylane) (0.10.2)\n",
            "Requirement already satisfied: appdirs in /usr/local/lib/python3.10/dist-packages (from pennylane) (1.4.4)\n",
            "Collecting semantic-version>=2.7 (from pennylane)\n",
            "  Downloading semantic_version-2.10.0-py2.py3-none-any.whl (15 kB)\n",
            "Collecting autoray>=0.6.1 (from pennylane)\n",
            "  Downloading autoray-0.6.10-py3-none-any.whl (50 kB)\n",
            "\u001b[2K     \u001b[90m━━━━━━━━━━━━━━━━━━━━━━━━━━━━━━━━━━━━━━━━\u001b[0m \u001b[32m50.8/50.8 kB\u001b[0m \u001b[31m5.4 MB/s\u001b[0m eta \u001b[36m0:00:00\u001b[0m\n",
            "\u001b[?25hRequirement already satisfied: cachetools in /usr/local/lib/python3.10/dist-packages (from pennylane) (5.3.3)\n",
            "Collecting pennylane-lightning>=0.36 (from pennylane)\n",
            "  Downloading PennyLane_Lightning-0.36.0-cp310-cp310-manylinux_2_17_x86_64.manylinux2014_x86_64.whl (19.1 MB)\n",
            "\u001b[2K     \u001b[90m━━━━━━━━━━━━━━━━━━━━━━━━━━━━━━━━━━━━━━━━\u001b[0m \u001b[32m19.1/19.1 MB\u001b[0m \u001b[31m35.3 MB/s\u001b[0m eta \u001b[36m0:00:00\u001b[0m\n",
            "\u001b[?25hRequirement already satisfied: requests in /usr/local/lib/python3.10/dist-packages (from pennylane) (2.31.0)\n",
            "Requirement already satisfied: typing-extensions in /usr/local/lib/python3.10/dist-packages (from pennylane) (4.11.0)\n",
            "Requirement already satisfied: future>=0.15.2 in /usr/local/lib/python3.10/dist-packages (from autograd->pennylane) (0.18.3)\n",
            "Requirement already satisfied: charset-normalizer<4,>=2 in /usr/local/lib/python3.10/dist-packages (from requests->pennylane) (3.3.2)\n",
            "Requirement already satisfied: idna<4,>=2.5 in /usr/local/lib/python3.10/dist-packages (from requests->pennylane) (3.7)\n",
            "Requirement already satisfied: urllib3<3,>=1.21.1 in /usr/local/lib/python3.10/dist-packages (from requests->pennylane) (2.0.7)\n",
            "Requirement already satisfied: certifi>=2017.4.17 in /usr/local/lib/python3.10/dist-packages (from requests->pennylane) (2024.2.2)\n",
            "Installing collected packages: semantic-version, rustworkx, autoray, pennylane-lightning, pennylane\n",
            "Successfully installed autoray-0.6.10 pennylane-0.36.0 pennylane-lightning-0.36.0 rustworkx-0.14.2 semantic-version-2.10.0\n"
          ]
        }
      ]
    },
    {
      "cell_type": "code",
      "source": [
        "import pennylane as qml\n",
        "from pennylane import qaoa\n",
        "import networkx as nx"
      ],
      "metadata": {
        "id": "QQv2UUEP55eU"
      },
      "execution_count": null,
      "outputs": []
    },
    {
      "cell_type": "code",
      "source": [
        "dev = qml.device('default.qubit', wires=len(g.nodes))\n",
        "\n",
        "def create_graph_from_friendships(friendships):\n",
        "    \"\"\"Create a NetworkX graph from a list of friendships.\"\"\"\n",
        "    g = nx.Graph()\n",
        "    g.add_edges_from(friendships)\n",
        "    return g\n",
        "\n",
        "def setup_qaoa_circuit(g, p):\n",
        "    \"\"\"Set up the QAOA circuit using PennyLane with p layers.\"\"\"\n",
        "    cost_h, mixer_h = qaoa.min_vertex_cover(g, constrained=False)\n",
        "\n",
        "    @qml.qnode(dev)\n",
        "    def circuit(params):\n",
        "        for i in range(p):  # Loop through each of the p layers\n",
        "            qaoa.cost_layer(params[0][i], cost_h)\n",
        "            qaoa.mixer_layer(params[1][i], mixer_h)\n",
        "        return qml.expval(cost_h)\n",
        "\n",
        "    return circuit\n",
        "\n",
        "def find_minimum_vertex_cover(friendships, p):\n",
        "    \"\"\"Use QAOA to find the minimum vertex cover of the graph.\"\"\"\n",
        "    g = create_graph_from_friendships(friendships)\n",
        "    circuit = setup_qaoa_circuit(g, p)\n",
        "    params = 0.01 * qml.numpy.random.randn(2, p)  # Initialize parameters for 3 layers\n",
        "    opt = qml.GradientDescentOptimizer(0.1)\n",
        "    steps = 100\n",
        "\n",
        "    # Optimization loop\n",
        "    for i in range(steps):\n",
        "        params = opt.step(circuit, params)\n",
        "        if (i + 1) % 20 == 0:\n",
        "            print(\"Cost after step {:5d}: {:.7f}\\n\".format(i + 1, circuit(params)))\n",
        "\n",
        "    # Get the final probabilities\n",
        "    @qml.qnode(dev)\n",
        "    def probability_circuit(params):\n",
        "      setup_qaoa_circuit(g, p)\n",
        "      return qml.probs(wires=range(len(g.nodes)))\n",
        "\n",
        "    return params\n",
        "\n",
        "# Assuming 0=Mario, 1=Sarah, 2=Raúl, 3=Ana, 4=Enrique, 5=Saúl\n",
        "friendships = [(0, 1), (0, 2), (0, 3), (4, 1), (4, 2), (5, 3)]\n",
        "params = find_minimum_vertex_cover(friendships, p=3)\n",
        "\n",
        "print(\"Optimized QAOA parameters for 3 layers:\\n\", params, \"\\n\")\n",
        "\n",
        "# Print the probabilities of each node being in the dominating set\n",
        "probs = probability_circuit(params)\n",
        "for idx in range(len(g.nodes)):\n",
        "    print(\"Probability of node {} being in the dominating set: {:.2f}\".format(idx, probs[idx]))"
      ],
      "metadata": {
        "colab": {
          "base_uri": "https://localhost:8080/"
        },
        "id": "xqOBnx9CY30W",
        "outputId": "f94af99a-e3d7-424e-cf66-1f71a888ff04"
      },
      "execution_count": 44,
      "outputs": [
        {
          "output_type": "stream",
          "name": "stdout",
          "text": [
            "Cost after step    20: -0.7271804\n",
            "\n",
            "Cost after step    40: -0.3915114\n",
            "\n",
            "Cost after step    60: -0.5793345\n",
            "\n",
            "Cost after step    80: -0.5523641\n",
            "\n",
            "Cost after step   100: -1.3323962\n",
            "\n",
            "Optimized QAOA parameters for 3 layers:\n",
            " [[-0.00417122 -0.97163713 -0.70588191]\n",
            " [-0.54161311  0.47074677  1.41704356]] \n",
            "\n",
            "Probability of node 0 being in the dominating set: 0.00\n",
            "Probability of node 1 being in the dominating set: 0.00\n",
            "Probability of node 2 being in the dominating set: 0.00\n",
            "Probability of node 3 being in the dominating set: 0.01\n",
            "Probability of node 4 being in the dominating set: 0.00\n",
            "Probability of node 5 being in the dominating set: 0.01\n"
          ]
        }
      ]
    },
    {
      "cell_type": "code",
      "source": [
        "#Optmial U(C) and U(B)\n",
        "cost_h, cc = qaoa.min_vertex_cover(g, constrained=False)"
      ],
      "metadata": {
        "id": "re2AyDXyaUP8"
      },
      "execution_count": 39,
      "outputs": []
    }
  ]
}