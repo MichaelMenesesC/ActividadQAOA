{
 "cells": [
  {
   "cell_type": "code",
   "execution_count": 1,
   "metadata": {},
   "outputs": [
    {
     "ename": "ModuleNotFoundError",
     "evalue": "No module named 'qiskit_aer'",
     "output_type": "error",
     "traceback": [
      "\u001b[1;31m---------------------------------------------------------------------------\u001b[0m",
      "\u001b[1;31mModuleNotFoundError\u001b[0m                       Traceback (most recent call last)",
      "Cell \u001b[1;32mIn[1], line 2\u001b[0m\n\u001b[0;32m      1\u001b[0m \u001b[38;5;28;01mimport\u001b[39;00m \u001b[38;5;21;01mnumpy\u001b[39;00m \u001b[38;5;28;01mas\u001b[39;00m \u001b[38;5;21;01mnp\u001b[39;00m\n\u001b[1;32m----> 2\u001b[0m \u001b[38;5;28;01mfrom\u001b[39;00m \u001b[38;5;21;01mqiskit_aer\u001b[39;00m \u001b[38;5;28;01mimport\u001b[39;00m AerSimulator\n\u001b[0;32m      3\u001b[0m \u001b[38;5;28;01mfrom\u001b[39;00m \u001b[38;5;21;01mqiskit_algorithms\u001b[39;00m \u001b[38;5;28;01mimport\u001b[39;00m QAOA\n\u001b[0;32m      4\u001b[0m \u001b[38;5;28;01mfrom\u001b[39;00m \u001b[38;5;21;01mqiskit_algorithms\u001b[39;00m\u001b[38;5;21;01m.\u001b[39;00m\u001b[38;5;21;01moptimizers\u001b[39;00m \u001b[38;5;28;01mimport\u001b[39;00m COBYLA\n",
      "\u001b[1;31mModuleNotFoundError\u001b[0m: No module named 'qiskit_aer'"
     ]
    }
   ],
   "source": [
    "import numpy as np\n",
    "from qiskit_aer import AerSimulator\n",
    "from qiskit_algorithms import QAOA\n",
    "from qiskit_algorithms.optimizers import COBYLA\n",
    "\n",
    "# Función para calcular el número de conjuntos necesarios para cubrir todos los elementos\n",
    "def set_cover_cost(solution, friendships):\n",
    "    covered = set()\n",
    "    for i, person in enumerate(solution):\n",
    "        if person:\n",
    "            covered |= friendships[i]\n",
    "    return len(covered)\n",
    "\n",
    "# Relaciones de amistad representadas como un diccionario de nombres a números\n",
    "friendships_dict = {\"Mario\": 0, \"Sarah\": 1, \"Raúl\": 2, \"Ana\": 3, \"Enrique\": 4, \"Saúl\": 5}\n",
    "\n",
    "# Relaciones de amistad entre los números asignados a cada persona\n",
    "friendships = [{1, 2, 3}, {0, 2, 4}, {0, 1}, {0}, {1}, {3}]\n",
    "\n",
    "# Definición del problema como un problema de optimización\n",
    "cost_function = lambda x: set_cover_cost(x, friendships)\n",
    "\n",
    "# Parámetros del algoritmo QAOA\n",
    "backend = AerSimulator()\n",
    "p_values = [1, 2, 3]  # Probamos diferentes números de capas\n",
    "maxiter = 50  # Número máximo de iteraciones para la optimización\n",
    "best_solution = None\n",
    "best_cost = float('inf')\n",
    "\n",
    "for p in p_values:\n",
    "    # Definición del algoritmo QAOA con el número de capas actual\n",
    "    optimizer = COBYLA(maxiter=maxiter)\n",
    "    qaoa = QAOA(optimizer, p, quantum_instance=backend)\n",
    "\n",
    "    # Ejecución del algoritmo QAOA para encontrar los mejores parámetros de rotación\n",
    "    result = qaoa.compute_minimum_eigenvalue(operator=None, aux_operators=[])\n",
    "    \n",
    "    # Obtención de la solución y su costo\n",
    "    solution = result.min_eigenstate.eigenstate\n",
    "    cost = set_cover_cost(solution, friendships)\n",
    "\n",
    "    # Actualización de la mejor solución encontrada hasta ahora\n",
    "    if cost < best_cost:\n",
    "        best_solution = solution\n",
    "        best_cost = cost\n",
    "\n",
    "    print(f\"Para p={p}, la solución es {best_solution} con un costo de {best_cost}\")\n",
    "\n",
    "print(\"Mejor solución encontrada:\", best_solution)\n",
    "print(\"Costo de la mejor solución:\", best_cost)\n"
   ]
  }
 ],
 "metadata": {
  "kernelspec": {
   "display_name": "Python 3",
   "language": "python",
   "name": "python3"
  },
  "language_info": {
   "codemirror_mode": {
    "name": "ipython",
    "version": 3
   },
   "file_extension": ".py",
   "mimetype": "text/x-python",
   "name": "python",
   "nbconvert_exporter": "python",
   "pygments_lexer": "ipython3",
   "version": "3.10.11"
  }
 },
 "nbformat": 4,
 "nbformat_minor": 2
}
